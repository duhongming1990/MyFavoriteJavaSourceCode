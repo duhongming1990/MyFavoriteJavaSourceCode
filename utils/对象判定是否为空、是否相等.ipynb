{
 "cells": [
  {
   "cell_type": "code",
   "execution_count": 15,
   "metadata": {},
   "outputs": [],
   "source": [
    "%maven commons-lang:commons-lang:2.6\n",
    "import org.apache.commons.lang.StringUtils;"
   ]
  },
  {
   "cell_type": "code",
   "execution_count": 17,
   "metadata": {},
   "outputs": [
    {
     "name": "stdout",
     "output_type": "stream",
     "text": [
      "false\n",
      "false\n",
      "true\n",
      "true\n",
      "true\n"
     ]
    }
   ],
   "source": [
    "/**\n",
    " * <p>Checks if a String is not empty (\"\") and not null.</p>\n",
    " *\n",
    " * <pre>\n",
    " * StringUtils.isNotEmpty(null)      = false\n",
    " * StringUtils.isNotEmpty(\"\")        = false\n",
    " * StringUtils.isNotEmpty(\" \")       = true\n",
    " * StringUtils.isNotEmpty(\"bob\")     = true\n",
    " * StringUtils.isNotEmpty(\"  bob  \") = true\n",
    " * </pre>\n",
    " *\n",
    " * @param str  the String to check, may be null\n",
    " * @return <code>true</code> if the String is not empty and not null\n",
    " */\n",
    "System.out.println(StringUtils.isNotEmpty(null));\n",
    "System.out.println(StringUtils.isNotEmpty(\"\"));\n",
    "System.out.println(StringUtils.isNotEmpty(\" \"));\n",
    "System.out.println(StringUtils.isNotEmpty(\"bob\"));\n",
    "System.out.println(StringUtils.isNotEmpty(\"  bob  \"));\n"
   ]
  },
  {
   "cell_type": "code",
   "execution_count": 18,
   "metadata": {},
   "outputs": [
    {
     "name": "stdout",
     "output_type": "stream",
     "text": [
      "false\n",
      "false\n",
      "false\n",
      "true\n",
      "true\n"
     ]
    }
   ],
   "source": [
    "/**\n",
    " * <p>Checks if a String is not empty (\"\"), not null and not whitespace only.</p>\n",
    " *\n",
    " * <pre>\n",
    " * StringUtils.isNotBlank(null)      = false\n",
    " * StringUtils.isNotBlank(\"\")        = false\n",
    " * StringUtils.isNotBlank(\" \")       = false\n",
    " * StringUtils.isNotBlank(\"bob\")     = true\n",
    " * StringUtils.isNotBlank(\"  bob  \") = true\n",
    " * </pre>\n",
    " *\n",
    " * @param str  the String to check, may be null\n",
    " * @return <code>true</code> if the String is\n",
    " *  not empty and not null and not whitespace\n",
    " * @since 2.0\n",
    " */\n",
    "System.out.println(StringUtils.isNotBlank(null));\n",
    "System.out.println(StringUtils.isNotBlank(\"\"));\n",
    "System.out.println(StringUtils.isNotBlank(\" \"));\n",
    "System.out.println(StringUtils.isNotBlank(\"bob\"));\n",
    "System.out.println(StringUtils.isNotBlank(\"  bob  \"));"
   ]
  },
  {
   "cell_type": "code",
   "execution_count": 20,
   "metadata": {},
   "outputs": [
    {
     "name": "stdout",
     "output_type": "stream",
     "text": [
      "true\n",
      "false\n",
      "false\n",
      "true\n",
      "false\n"
     ]
    }
   ],
   "source": [
    "/**\n",
    " * <p>Compares two Strings, returning <code>true</code> if they are equal.</p>\n",
    " *\n",
    " * <p><code>null</code>s are handled without exceptions. Two <code>null</code>\n",
    " * references are considered to be equal. The comparison is case sensitive.</p>\n",
    " *\n",
    " * <pre>\n",
    " * StringUtils.equals(null, null)   = true\n",
    " * StringUtils.equals(null, \"abc\")  = false\n",
    " * StringUtils.equals(\"abc\", null)  = false\n",
    " * StringUtils.equals(\"abc\", \"abc\") = true\n",
    " * StringUtils.equals(\"abc\", \"ABC\") = false\n",
    " * </pre>\n",
    " *\n",
    " * @see java.lang.String#equals(Object)\n",
    " * @param str1  the first String, may be null\n",
    " * @param str2  the second String, may be null\n",
    " * @return <code>true</code> if the Strings are equal, case sensitive, or\n",
    " *  both <code>null</code>\n",
    " */\n",
    "System.out.println(StringUtils.equals(null, null));\n",
    "System.out.println(StringUtils.equals(null, \"abc\"));\n",
    "System.out.println(StringUtils.equals(\"abc\", null));\n",
    "System.out.println(StringUtils.equals(\"abc\", \"abc\"));\n",
    "System.out.println(StringUtils.equals(\"abc\", \"ABC\"));"
   ]
  },
  {
   "cell_type": "code",
   "execution_count": 26,
   "metadata": {},
   "outputs": [
    {
     "name": "stdout",
     "output_type": "stream",
     "text": [
      "true\n",
      "true\n"
     ]
    }
   ],
   "source": [
    "/**\n",
    " * Returns {@code true} if the provided reference is {@code null} otherwise\n",
    " * returns {@code false}.\n",
    " *\n",
    " * @apiNote This method exists to be used as a\n",
    " * {@link java.util.function.Predicate}, {@code filter(Objects::isNull)}\n",
    " *\n",
    " * @param obj a reference to be checked against {@code null}\n",
    " * @return {@code true} if the provided reference is {@code null} otherwise\n",
    " * {@code false}\n",
    " *\n",
    " * @see java.util.function.Predicate\n",
    " * @since 1.8\n",
    " */\n",
    "System.out.println(Objects.isNull(null));\n",
    "\n",
    "/**\n",
    " * Returns {@code true} if the provided reference is non-{@code null}\n",
    " * otherwise returns {@code false}.\n",
    " *\n",
    " * @apiNote This method exists to be used as a\n",
    " * {@link java.util.function.Predicate}, {@code filter(Objects::nonNull)}\n",
    " *\n",
    " * @param obj a reference to be checked against {@code null}\n",
    " * @return {@code true} if the provided reference is non-{@code null}\n",
    " * otherwise {@code false}\n",
    " *\n",
    " * @see java.util.function.Predicate\n",
    " * @since 1.8\n",
    " */\n",
    "System.out.println(Objects.nonNull(StringUtils.EMPTY));"
   ]
  },
  {
   "cell_type": "code",
   "execution_count": null,
   "metadata": {},
   "outputs": [],
   "source": []
  }
 ],
 "metadata": {
  "kernelspec": {
   "display_name": "Java",
   "language": "java",
   "name": "java"
  },
  "language_info": {
   "codemirror_mode": "java",
   "file_extension": ".jshell",
   "mimetype": "text/x-java-source",
   "name": "Java",
   "pygments_lexer": "java",
   "version": "11.0.4+11-LTS"
  }
 },
 "nbformat": 4,
 "nbformat_minor": 2
}
