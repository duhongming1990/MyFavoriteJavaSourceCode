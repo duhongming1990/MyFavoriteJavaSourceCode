{
 "cells": [
  {
   "cell_type": "code",
   "execution_count": 4,
   "metadata": {},
   "outputs": [
    {
     "data": {
      "text/plain": [
       "11.0.4"
      ]
     },
     "execution_count": 4,
     "metadata": {},
     "output_type": "execute_result"
    }
   ],
   "source": [
    "System.getProperty(\"java.version\")"
   ]
  },
  {
   "cell_type": "code",
   "execution_count": 1,
   "metadata": {},
   "outputs": [
    {
     "data": {
      "text/plain": [
       "jovyan"
      ]
     },
     "execution_count": 1,
     "metadata": {},
     "output_type": "execute_result"
    }
   ],
   "source": [
    "System.getProperty(\"user.name\")"
   ]
  },
  {
   "cell_type": "code",
   "execution_count": 2,
   "metadata": {},
   "outputs": [
    {
     "data": {
      "text/plain": [
       "/home/jovyan"
      ]
     },
     "execution_count": 2,
     "metadata": {},
     "output_type": "execute_result"
    }
   ],
   "source": [
    "System.getProperty(\"user.dir\")"
   ]
  },
  {
   "cell_type": "code",
   "execution_count": 3,
   "metadata": {},
   "outputs": [
    {
     "data": {
      "text/plain": [
       "/tmp"
      ]
     },
     "execution_count": 3,
     "metadata": {},
     "output_type": "execute_result"
    }
   ],
   "source": [
    "System.getProperty(\"java.io.tmpdir\");"
   ]
  },
  {
   "cell_type": "code",
   "execution_count": 6,
   "metadata": {},
   "outputs": [
    {
     "name": "stdout",
     "output_type": "stream",
     "text": [
      "awt.toolkit:sun.awt.X11.XToolkit\n",
      "java.specification.version:11\n",
      "sun.cpu.isalist:\n",
      "sun.jnu.encoding:UTF-8\n",
      "java.class.path:/opt/conda/share/jupyter/kernels/java/ijava-1.3.0.jar\n",
      "java.vm.vendor:Azul Systems, Inc.\n",
      "sun.arch.data.model:64\n",
      "java.vendor.url:http://www.azulsystems.com/\n",
      "user.timezone:Etc/UTC\n",
      "os.name:Linux\n",
      "java.vm.specification.version:11\n",
      "sun.java.launcher:SUN_STANDARD\n",
      "user.country:US\n",
      "sun.boot.library.path:/usr/lib/jvm/zulu-11-amd64/lib\n",
      "sun.java.command:/opt/conda/share/jupyter/kernels/java/ijava-1.3.0.jar /home/jovyan/.local/share/jupyter/runtime/kernel-a2e614ab-b02f-40e9-96c1-f3f0b8d7050a.json\n",
      "jdk.debug:release\n",
      "sun.cpu.endian:little\n",
      "user.home:/home/jovyan\n",
      "user.language:en\n",
      "java.specification.vendor:Oracle Corporation\n",
      "java.version.date:2019-07-16\n",
      "java.home:/usr/lib/jvm/zulu-11-amd64\n",
      "file.separator:/\n",
      "java.vm.compressedOopsMode:32-bit\n",
      "line.separator:\n",
      "\n",
      "java.specification.name:Java Platform API Specification\n",
      "java.vm.specification.vendor:Oracle Corporation\n",
      "java.awt.graphicsenv:sun.awt.X11GraphicsEnvironment\n",
      "sun.management.compiler:HotSpot 64-Bit Tiered Compilers\n",
      "java.runtime.version:11.0.4+11-LTS\n",
      "user.name:jovyan\n",
      "path.separator::\n",
      "os.version:5.10.25-linuxkit\n",
      "java.runtime.name:OpenJDK Runtime Environment\n",
      "file.encoding:UTF-8\n",
      "java.vm.name:OpenJDK 64-Bit Server VM\n",
      "java.vendor.version:Zulu11.33+15-CA\n",
      "java.vendor.url.bug:http://www.azulsystems.com/support/\n",
      "java.io.tmpdir:/tmp\n",
      "java.version:11.0.4\n",
      "user.dir:/home/jovyan\n",
      "os.arch:amd64\n",
      "java.vm.specification.name:Java Virtual Machine Specification\n",
      "java.awt.printerjob:sun.print.PSPrinterJob\n",
      "sun.os.patch.level:unknown\n",
      "java.library.path:/usr/java/packages/lib:/usr/lib64:/lib64:/lib:/usr/lib\n",
      "java.vendor:Azul Systems, Inc.\n",
      "java.vm.info:mixed mode\n",
      "java.vm.version:11.0.4+11-LTS\n",
      "sun.io.unicode.encoding:UnicodeLittle\n",
      "java.class.version:55.0\n"
     ]
    }
   ],
   "source": [
    "import java.util.Properties;\n",
    "\n",
    "Properties properties = System.getProperties();\n",
    "    properties.forEach((k, v) -> {\n",
    "    System.out.println(k + \":\" + v);\n",
    "});"
   ]
  },
  {
   "cell_type": "code",
   "execution_count": null,
   "metadata": {},
   "outputs": [],
   "source": []
  }
 ],
 "metadata": {
  "kernelspec": {
   "display_name": "Java",
   "language": "java",
   "name": "java"
  },
  "language_info": {
   "codemirror_mode": "java",
   "file_extension": ".jshell",
   "mimetype": "text/x-java-source",
   "name": "Java",
   "pygments_lexer": "java",
   "version": "11.0.4+11-LTS"
  }
 },
 "nbformat": 4,
 "nbformat_minor": 2
}
